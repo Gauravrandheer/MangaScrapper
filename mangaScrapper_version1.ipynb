{
 "cells": [
  {
   "cell_type": "code",
   "execution_count": 53,
   "metadata": {},
   "outputs": [],
   "source": [
    "import requests\n",
    "from bs4 import BeautifulSoup as bs\n"
   ]
  },
  {
   "cell_type": "code",
   "execution_count": 54,
   "metadata": {},
   "outputs": [],
   "source": [
    "comic_number= \"526\" #Chapter number"
   ]
  },
  {
   "cell_type": "code",
   "execution_count": 55,
   "metadata": {},
   "outputs": [
    {
     "name": "stdout",
     "output_type": "stream",
     "text": [
      "https://manganelo.com/chapter/read_historys_strongest_disciple_kenichi_manga/chapter_526\n"
     ]
    }
   ],
   "source": [
    "site_url= \"https://manganelo.com/chapter/read_historys_strongest_disciple_kenichi_manga/chapter_\"+ comic_number \n",
    "print(site_url)"
   ]
  },
  {
   "cell_type": "code",
   "execution_count": 56,
   "metadata": {},
   "outputs": [
    {
     "data": {
      "text/plain": [
       "'chapter_526'"
      ]
     },
     "execution_count": 56,
     "metadata": {},
     "output_type": "execute_result"
    }
   ],
   "source": [
    "f= site_url.split(\"/\")[-1]\n",
    "f                         # this give us the folder name"
   ]
  },
  {
   "cell_type": "code",
   "execution_count": 57,
   "metadata": {},
   "outputs": [],
   "source": [
    "raw_data = requests.get(site_url,\"lxml\") # gather source data"
   ]
  },
  {
   "cell_type": "code",
   "execution_count": 59,
   "metadata": {},
   "outputs": [],
   "source": [
    "soup=bs(raw_data.content,\"lxml\")# bs is used to make html code more visible."
   ]
  },
  {
   "cell_type": "code",
   "execution_count": 61,
   "metadata": {},
   "outputs": [],
   "source": [
    "comic= soup.find(\"div\",{\"id\":\"vungdoc\"}) # find the specific link about manga images"
   ]
  },
  {
   "cell_type": "code",
   "execution_count": 63,
   "metadata": {},
   "outputs": [
    {
     "data": {
      "text/plain": [
       "['https://s3.mkklcdnv3.com/mangakakalot/r1/read_historys_strongest_disciple_kenichi_manga/vol45_chapter_526_those_that_escaped_the_darkness/1.jpg',\n",
       " 'https://s3.mkklcdnv3.com/mangakakalot/r1/read_historys_strongest_disciple_kenichi_manga/vol45_chapter_526_those_that_escaped_the_darkness/2.jpg',\n",
       " 'https://s3.mkklcdnv3.com/mangakakalot/r1/read_historys_strongest_disciple_kenichi_manga/vol45_chapter_526_those_that_escaped_the_darkness/3.jpg',\n",
       " 'https://s3.mkklcdnv3.com/mangakakalot/r1/read_historys_strongest_disciple_kenichi_manga/vol45_chapter_526_those_that_escaped_the_darkness/4.jpg',\n",
       " 'https://s3.mkklcdnv3.com/mangakakalot/r1/read_historys_strongest_disciple_kenichi_manga/vol45_chapter_526_those_that_escaped_the_darkness/5.jpg',\n",
       " 'https://s3.mkklcdnv3.com/mangakakalot/r1/read_historys_strongest_disciple_kenichi_manga/vol45_chapter_526_those_that_escaped_the_darkness/6.jpg',\n",
       " 'https://s3.mkklcdnv3.com/mangakakalot/r1/read_historys_strongest_disciple_kenichi_manga/vol45_chapter_526_those_that_escaped_the_darkness/7.jpg',\n",
       " 'https://s3.mkklcdnv3.com/mangakakalot/r1/read_historys_strongest_disciple_kenichi_manga/vol45_chapter_526_those_that_escaped_the_darkness/8.jpg',\n",
       " 'https://s3.mkklcdnv3.com/mangakakalot/r1/read_historys_strongest_disciple_kenichi_manga/vol45_chapter_526_those_that_escaped_the_darkness/9.jpg',\n",
       " 'https://s3.mkklcdnv3.com/mangakakalot/r1/read_historys_strongest_disciple_kenichi_manga/vol45_chapter_526_those_that_escaped_the_darkness/10.jpg',\n",
       " 'https://s3.mkklcdnv3.com/mangakakalot/r1/read_historys_strongest_disciple_kenichi_manga/vol45_chapter_526_those_that_escaped_the_darkness/11.jpg',\n",
       " 'https://s3.mkklcdnv3.com/mangakakalot/r1/read_historys_strongest_disciple_kenichi_manga/vol45_chapter_526_those_that_escaped_the_darkness/12.jpg',\n",
       " 'https://s3.mkklcdnv3.com/mangakakalot/r1/read_historys_strongest_disciple_kenichi_manga/vol45_chapter_526_those_that_escaped_the_darkness/13.jpg',\n",
       " 'https://s3.mkklcdnv3.com/mangakakalot/r1/read_historys_strongest_disciple_kenichi_manga/vol45_chapter_526_those_that_escaped_the_darkness/14.jpg',\n",
       " 'https://s3.mkklcdnv3.com/mangakakalot/r1/read_historys_strongest_disciple_kenichi_manga/vol45_chapter_526_those_that_escaped_the_darkness/15.jpg',\n",
       " 'https://s3.mkklcdnv3.com/mangakakalot/r1/read_historys_strongest_disciple_kenichi_manga/vol45_chapter_526_those_that_escaped_the_darkness/16.jpg',\n",
       " 'https://s3.mkklcdnv3.com/mangakakalot/r1/read_historys_strongest_disciple_kenichi_manga/vol45_chapter_526_those_that_escaped_the_darkness/17.jpg']"
      ]
     },
     "execution_count": 63,
     "metadata": {},
     "output_type": "execute_result"
    }
   ],
   "source": [
    "images = soup.findAll('img')\n",
    "l = []\n",
    "for image in images:\n",
    "    #print image source\n",
    "    l.append(image['src'])\n",
    "    #print alternate text\n",
    "z = l.pop(0)\n",
    "l.pop()\n",
    "# give us all the link available for the given chapter\n"
   ]
  },
  {
   "cell_type": "code",
   "execution_count": 65,
   "metadata": {},
   "outputs": [
    {
     "data": {
      "text/plain": [
       "'jpg'"
      ]
     },
     "execution_count": 65,
     "metadata": {},
     "output_type": "execute_result"
    }
   ],
   "source": [
    "extension_type= l[0].split(\".\")[-1]\n",
    "extension_type  # this give us the extension of the manga images"
   ]
  },
  {
   "cell_type": "code",
   "execution_count": 66,
   "metadata": {},
   "outputs": [
    {
     "name": "stdout",
     "output_type": "stream",
     "text": [
      "processing:Comic1.jpg\n",
      "processing:Comic2.jpg\n",
      "processing:Comic3.jpg\n",
      "processing:Comic4.jpg\n",
      "processing:Comic5.jpg\n",
      "processing:Comic6.jpg\n",
      "processing:Comic7.jpg\n",
      "processing:Comic8.jpg\n",
      "processing:Comic9.jpg\n",
      "processing:Comic10.jpg\n",
      "processing:Comic11.jpg\n",
      "processing:Comic12.jpg\n",
      "processing:Comic13.jpg\n",
      "processing:Comic14.jpg\n",
      "processing:Comic15.jpg\n",
      "processing:Comic16.jpg\n",
      "processing:Comic17.jpg\n",
      "it'done\n"
     ]
    }
   ],
   "source": [
    "import os\n",
    "\n",
    "def createFolder(directory):\n",
    "    try:\n",
    "        if not os.path.exists(directory):\n",
    "            os.makedirs(directory)# it will make the our folder\n",
    "    except OSError:\n",
    "        print ('Error: Creating directory. ' +  directory)\n",
    "        \n",
    "createFolder(r\"C:\\Users\\Student\\Videos\\_\" + f)\n",
    "count=0\n",
    "image.data\n",
    "\n",
    "for i in range(len(l)) :\n",
    "    ext= l[i].split(\"/\")[-1]\n",
    "    z =ext.split(\".\")\n",
    "    ex= z[0]# it will give increase the count of out image number 1,2,3...\n",
    "    image_data= requests.get(l[i])\n",
    "    with open(os.path.join(r\"C:\\Users\\Student\\Videos\\_\" + f,\"_Comic\"+ ex+\".\"+ extension_type), \"wb\") as comic_files:#here after join user need to put directoty path or simple say a place where user want his manga chapter to downlaod \n",
    "        print(\"processing:\"+\"Comic\"+ex+\".\"+ extension_type)\n",
    "        comic_files.write(image_data.content)# it will download the file in our given folder\n",
    "\n",
    "print(\"it'done\")"
   ]
  },
  {
   "cell_type": "code",
   "execution_count": null,
   "metadata": {},
   "outputs": [],
   "source": []
  }
 ],
 "metadata": {
  "kernelspec": {
   "display_name": "Python 3",
   "language": "python",
   "name": "python3"
  },
  "language_info": {
   "codemirror_mode": {
    "name": "ipython",
    "version": 3
   },
   "file_extension": ".py",
   "mimetype": "text/x-python",
   "name": "python",
   "nbconvert_exporter": "python",
   "pygments_lexer": "ipython3",
   "version": "3.6.5"
  }
 },
 "nbformat": 4,
 "nbformat_minor": 2
}
